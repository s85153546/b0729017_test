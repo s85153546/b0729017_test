{
  "cells": [
    {
      "cell_type": "code",
      "execution_count": 18,
      "metadata": {
        "pycharm": {}
      },
      "outputs": [],
      "source": [
        "import sympy as sy\n",
        "import numpy as np\n",
        "import scipy.stats as st\n",
        "import scipy as sp"
      ]
    },
    {
      "cell_type": "markdown",
      "metadata": {
        "pycharm": {}
      },
      "source": "1_(b)"
    },
    {
      "cell_type": "markdown",
      "metadata": {
        "pycharm": {}
      },
      "source": "卡方分布 "
    },
    {
      "cell_type": "code",
      "execution_count": 19,
      "metadata": {
        "pycharm": {}
      },
      "outputs": [
        {
          "data": {
            "text/latex": [
              "$\\displaystyle \\frac{0.398942280401433 e^{- 0.5 x}}{x^{0.5}}$"
            ],
            "text/plain": [
              "0.398942280401433*x**(-0.5)*exp(-0.5*x)"
            ]
          },
          "execution_count": 19,
          "metadata": {},
          "output_type": "execute_result"
        }
      ],
      "source": [
        "Γ \u003d sp.special.gamma\n",
        "x \u003d sy.symbols(\u0027x\u0027)\n",
        "ν \u003d 1\n",
        "P2 \u003d x**(0.5*ν-1)*sy.exp(-0.5*x)/(Γ(0.5*ν)*2**(0.5*ν))\n",
        "P2"
      ]
    },
    {
      "cell_type": "markdown",
      "metadata": {
        "pycharm": {}
      },
      "source": "1_(c)"
    },
    {
      "cell_type": "markdown",
      "metadata": {
        "pycharm": {}
      },
      "source": "卡方分布"
    },
    {
      "cell_type": "code",
      "execution_count": 20,
      "metadata": {
        "pycharm": {}
      },
      "outputs": [
        {
          "data": {
            "text/latex": [
              "$\\displaystyle 0.5 e^{- 0.5 x}$"
            ],
            "text/plain": [
              "0.5*exp(-0.5*x)"
            ]
          },
          "execution_count": 20,
          "metadata": {},
          "output_type": "execute_result"
        }
      ],
      "source": [
        "Γ \u003d sp.special.gamma\n",
        "x \u003d sy.symbols(\u0027x\u0027)\n",
        "ν \u003d 2\n",
        "P3 \u003d x**(0.5*ν-1)*sy.exp(-0.5*x)/(Γ(0.5*ν)*2**(0.5*ν))\n",
        "P3"
      ]
    },
    {
      "cell_type": "markdown",
      "metadata": {
        "pycharm": {}
      },
      "source": "1_(e)"
    },
    {
      "cell_type": "markdown",
      "metadata": {
        "pycharm": {}
      },
      "source": "t分布"
    },
    {
      "cell_type": "code",
      "execution_count": 21,
      "metadata": {
        "pycharm": {}
      },
      "outputs": [
        {
          "data": {
            "text/latex": [
              "$\\displaystyle \\frac{0.443113462726379 \\sqrt{2}}{\\sqrt{\\pi} \\left(\\frac{x^{2}}{2} + 1\\right)^{1.5}}$"
            ],
            "text/plain": [
              "0.443113462726379*sqrt(2)*(x**2/2 + 1)**(-1.5)/sqrt(pi)"
            ]
          },
          "execution_count": 21,
          "metadata": {},
          "output_type": "execute_result"
        }
      ],
      "source": [
        "Γ \u003d sp.special.gamma\n",
        "π \u003d sy.pi\n",
        "x \u003d sy.symbols(\u0027x\u0027)\n",
        "ν \u003d 2\n",
        "P5 \u003d (1+x**2/ν)**(-(ν+1)/2)*Γ((ν+1)/2)/(Γ(ν/2)*sy.sqrt(π*ν))\n",
        "P5"
      ]
    },
    {
      "cell_type": "markdown",
      "metadata": {
        "pycharm": {}
      },
      "source": "2_(b)"
    },
    {
      "cell_type": "code",
      "execution_count": 22,
      "metadata": {
        "pycharm": {}
      },
      "outputs": [
        {
          "data": {
            "text/plain": [
              "0.6826894921370859"
            ]
          },
          "execution_count": 22,
          "metadata": {},
          "output_type": "execute_result"
        }
      ],
      "source": [
        "ν \u003d 1\n",
        "χ2 \u003d 1\n",
        "α2 \u003d st.chi2.cdf(χ2,ν)\n",
        "α2"
      ]
    },
    {
      "cell_type": "markdown",
      "metadata": {
        "pycharm": {}
      },
      "source": "2_(c)"
    },
    {
      "cell_type": "code",
      "execution_count": 23,
      "metadata": {
        "pycharm": {}
      },
      "outputs": [
        {
          "data": {
            "text/plain": [
              "0.3934693402873665"
            ]
          },
          "execution_count": 23,
          "metadata": {},
          "output_type": "execute_result"
        }
      ],
      "source": [
        "ν \u003d 2\n",
        "χ2 \u003d 1\n",
        "α3 \u003d st.chi2.cdf(χ2,ν)\n",
        "α3"
      ]
    },
    {
      "cell_type": "markdown",
      "metadata": {
        "pycharm": {}
      },
      "source": "2_(e)"
    },
    {
      "cell_type": "code",
      "execution_count": 24,
      "metadata": {
        "pycharm": {}
      },
      "outputs": [
        {
          "data": {
            "text/plain": [
              "0.7500000000000002"
            ]
          },
          "execution_count": 24,
          "metadata": {},
          "output_type": "execute_result"
        }
      ],
      "source": [
        "ν \u003d 1\n",
        "t \u003d 1\n",
        "α5 \u003d st.t.cdf(t,ν)\n",
        "α5"
      ]
    },
    {
      "cell_type": "markdown",
      "metadata": {
        "pycharm": {}
      },
      "source": "3_(a)"
    },
    {
      "cell_type": "code",
      "execution_count": 25,
      "metadata": {
        "pycharm": {}
      },
      "outputs": [
        {
          "data": {
            "text/plain": [
              "0.0477903522728147"
            ]
          },
          "execution_count": 25,
          "metadata": {},
          "output_type": "execute_result"
        }
      ],
      "source": [
        "μ \u003d 65\n",
        "σ \u003d 3\n",
        "n \u003d 25\n",
        "xBar \u003d 64\n",
        "μx \u003d μ\n",
        "σx \u003d σ/sy.sqrt(n)\n",
        "prob \u003d st.norm.cdf(xBar, μx, σx)\n",
        "prob"
      ]
    },
    {
      "cell_type": "markdown",
      "metadata": {
        "pycharm": {}
      },
      "source": "3_(b)"
    },
    {
      "cell_type": "code",
      "execution_count": 27,
      "metadata": {
        "scrolled": true,
        "pycharm": {}
      },
      "outputs": [
        {
          "data": {
            "text/plain": [
              "0.05429006151236145"
            ]
          },
          "execution_count": 27,
          "metadata": {},
          "output_type": "execute_result"
        }
      ],
      "source": [
        "μ \u003d 65\n",
        "s \u003d 3\n",
        "n \u003d 25\n",
        "ν \u003d n-1\n",
        "xBar \u003d 64\n",
        "t \u003d (xBar-μ)/(s/n**.5)\n",
        "prob \u003d st.t.cdf(t, ν)\n",
        "prob"
      ]
    },
    {
      "cell_type": "markdown",
      "metadata": {
        "pycharm": {}
      },
      "source": "3_(c)"
    },
    {
      "cell_type": "code",
      "execution_count": 29,
      "metadata": {
        "pycharm": {}
      },
      "outputs": [
        {
          "data": {
            "text/plain": [
              "-1.7108820799094282"
            ]
          },
          "execution_count": 29,
          "metadata": {},
          "output_type": "execute_result"
        }
      ],
      "source": [
        "α \u003d .05\n",
        "x \u003d st.t.ppf(α, ν)\n",
        "x"
      ]
    },
    {
      "cell_type": "markdown",
      "metadata": {
        "pycharm": {}
      },
      "source": "3_(d)"
    },
    {
      "cell_type": "code",
      "execution_count": 30,
      "metadata": {
        "pycharm": {}
      },
      "outputs": [
        {
          "data": {
            "text/plain": [
              "(-1.7108820799094282, 1.7108820799094275)"
            ]
          },
          "execution_count": 30,
          "metadata": {},
          "output_type": "execute_result"
        }
      ],
      "source": [
        "x2 \u003d st.t.ppf(0.95, ν)\n",
        "x1 \u003d st.t.ppf(0.05, ν)\n",
        "(x1,x2)"
      ]
    }
  ],
  "metadata": {
    "kernelspec": {
      "display_name": "Python 3",
      "language": "python",
      "name": "python3"
    },
    "language_info": {
      "codemirror_mode": {
        "name": "ipython",
        "version": 3
      },
      "file_extension": ".py",
      "mimetype": "text/x-python",
      "name": "python",
      "nbconvert_exporter": "python",
      "pygments_lexer": "ipython3",
      "version": "3.7.6"
    }
  },
  "nbformat": 4,
  "nbformat_minor": 4
}