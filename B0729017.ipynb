#%%
import sympy as sy
import numpy as np
import scipy.stats as st
import scipy as sp
#%% md
1_(b)
#%% md
卡方分布 
#%%
Γ = sp.special.gamma
x = sy.symbols('x')
ν = 1
P2 = x**(0.5*ν-1)*sy.exp(-0.5*x)/(Γ(0.5*ν)*2**(0.5*ν))
P2
#%% md
1_(c)
#%% md
卡方分布
#%%
Γ = sp.special.gamma
x = sy.symbols('x')
ν = 2
P3 = x**(0.5*ν-1)*sy.exp(-0.5*x)/(Γ(0.5*ν)*2**(0.5*ν))
P3
#%% md
1_(e)
#%% md
t分布
#%%
Γ = sp.special.gamma
π = sy.pi
x = sy.symbols('x')
ν = 2
P5 = (1+x**2/ν)**(-(ν+1)/2)*Γ((ν+1)/2)/(Γ(ν/2)*sy.sqrt(π*ν))
P5
#%% md
2_(b)
#%%
ν = 1
χ2 = 1
α2 = st.chi2.cdf(χ2,ν)
α2
#%% md
2_(c)
#%%
ν = 2
χ2 = 1
α3 = st.chi2.cdf(χ2,ν)
α3
#%% md
2_(e)
#%%
ν = 1
t = 1
α5 = st.t.cdf(t,ν)
α5
#%% md
3_(a)
#%%
μ = 65
σ = 3
n = 25
xBar = 64
μx = μ
σx = σ/sy.sqrt(n)
prob = st.norm.cdf(xBar, μx, σx)
prob
#%% md
3_(b)
#%%
μ = 65
s = 3
n = 25
ν = n-1
xBar = 64
t = (xBar-μ)/(s/n**.5)
prob = st.t.cdf(t, ν)
prob
#%% md
3_(c)
#%%
α = .05
x = st.t.ppf(α, ν)
x
#%% md
3_(d)
#%%
x2 = st.t.ppf(0.95, ν)
x1 = st.t.ppf(0.05, ν)
(x1,x2)